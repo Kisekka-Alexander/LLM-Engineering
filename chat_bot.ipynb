{
 "cells": [
  {
   "cell_type": "markdown",
   "id": "880a45ea",
   "metadata": {},
   "source": [
    "Implement chat bot with gradio"
   ]
  },
  {
   "cell_type": "code",
   "execution_count": null,
   "id": "4b62a867",
   "metadata": {},
   "outputs": [],
   "source": [
    "import ollama\n",
    "import gradio as gr\n",
    "\n",
    "MODEL = \"llama3.2\"\n",
    "system_message = \"You are a customer assistant\""
   ]
  },
  {
   "cell_type": "code",
   "execution_count": null,
   "id": "fad16f39",
   "metadata": {},
   "outputs": [],
   "source": [
    "def chat(message, history):\n",
    "    messages = [{\"role\": \"system\", \"content\": system_message}]\n",
    "    \n",
    "    for user_message, reply in history:\n",
    "        messages.append({\"role\": \"user\", \"content\": user_message})\n",
    "        messages.append({\"role\": \"assistant\", \"content\": reply})\n",
    "    messages.append({\"role\": \"user\", \"content\": message})\n",
    "    \n",
    "    stream = ollama.chat(model=MODEL, messages=messages, stream=True)\n",
    "    response = \"\"\n",
    "    \n",
    "    for chunk in stream:\n",
    "        response += chunk['message']['content']\n",
    "        yield response\n",
    "        "
   ]
  },
  {
   "cell_type": "code",
   "execution_count": null,
   "id": "3fd65cf6",
   "metadata": {},
   "outputs": [],
   "source": [
    "gr.ChatInterface(fn=chat).launch()"
   ]
  }
 ],
 "metadata": {
  "kernelspec": {
   "display_name": "llms",
   "language": "python",
   "name": "python3"
  },
  "language_info": {
   "codemirror_mode": {
    "name": "ipython",
    "version": 3
   },
   "file_extension": ".py",
   "mimetype": "text/x-python",
   "name": "python",
   "nbconvert_exporter": "python",
   "pygments_lexer": "ipython3",
   "version": "3.11.13"
  }
 },
 "nbformat": 4,
 "nbformat_minor": 5
}
